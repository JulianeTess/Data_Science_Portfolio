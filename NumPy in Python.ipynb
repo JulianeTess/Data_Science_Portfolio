{
 "cells": [
  {
   "cell_type": "markdown",
   "id": "d59202ad",
   "metadata": {},
   "source": [
    "# Import NumPy"
   ]
  },
  {
   "cell_type": "code",
   "execution_count": 1,
   "id": "9cedaf74",
   "metadata": {},
   "outputs": [],
   "source": [
    "import numpy as np"
   ]
  },
  {
   "cell_type": "markdown",
   "id": "f511352d",
   "metadata": {},
   "source": [
    "# 1. Create a 5 element array using your favorite numbers named 'myFavorites'"
   ]
  },
  {
   "cell_type": "code",
   "execution_count": 2,
   "id": "ca0099e6",
   "metadata": {},
   "outputs": [],
   "source": [
    "myFavorites = np.array([13,27,8,2,4])"
   ]
  },
  {
   "cell_type": "markdown",
   "id": "e697a8d7",
   "metadata": {},
   "source": [
    "# 2. Perform each of the 5 aggregate functions on your array"
   ]
  },
  {
   "cell_type": "code",
   "execution_count": 3,
   "id": "7ba18e05",
   "metadata": {},
   "outputs": [
    {
     "data": {
      "text/plain": [
       "2"
      ]
     },
     "execution_count": 3,
     "metadata": {},
     "output_type": "execute_result"
    }
   ],
   "source": [
    "myFavorites.min()"
   ]
  },
  {
   "cell_type": "code",
   "execution_count": 4,
   "id": "e18351e5",
   "metadata": {},
   "outputs": [
    {
     "data": {
      "text/plain": [
       "27"
      ]
     },
     "execution_count": 4,
     "metadata": {},
     "output_type": "execute_result"
    }
   ],
   "source": [
    "myFavorites.max()"
   ]
  },
  {
   "cell_type": "code",
   "execution_count": 5,
   "id": "6caaf0a4",
   "metadata": {},
   "outputs": [
    {
     "data": {
      "text/plain": [
       "54"
      ]
     },
     "execution_count": 5,
     "metadata": {},
     "output_type": "execute_result"
    }
   ],
   "source": [
    "myFavorites.sum()"
   ]
  },
  {
   "cell_type": "code",
   "execution_count": 6,
   "id": "e8e32303",
   "metadata": {},
   "outputs": [
    {
     "data": {
      "text/plain": [
       "10.8"
      ]
     },
     "execution_count": 6,
     "metadata": {},
     "output_type": "execute_result"
    }
   ],
   "source": [
    "myFavorites.mean()"
   ]
  },
  {
   "cell_type": "code",
   "execution_count": 7,
   "id": "fa7dfea3",
   "metadata": {
    "scrolled": true
   },
   "outputs": [
    {
     "data": {
      "text/plain": [
       "8.930845424706442"
      ]
     },
     "execution_count": 7,
     "metadata": {},
     "output_type": "execute_result"
    }
   ],
   "source": [
    "myFavorites.std()"
   ]
  },
  {
   "cell_type": "markdown",
   "id": "872523f0",
   "metadata": {},
   "source": [
    "# 3. Create a 5 element array containing only ones named 'oneArrayToRuleThemAll'"
   ]
  },
  {
   "cell_type": "code",
   "execution_count": 8,
   "id": "f870e630",
   "metadata": {},
   "outputs": [],
   "source": [
    "oneArrayToRuleThemAll = np.ones(5)"
   ]
  },
  {
   "cell_type": "code",
   "execution_count": 9,
   "id": "c507d909",
   "metadata": {},
   "outputs": [
    {
     "data": {
      "text/plain": [
       "array([1., 1., 1., 1., 1.])"
      ]
     },
     "execution_count": 9,
     "metadata": {},
     "output_type": "execute_result"
    }
   ],
   "source": [
    "oneArrayToRuleThemAll"
   ]
  },
  {
   "cell_type": "markdown",
   "id": "2076178b",
   "metadata": {},
   "source": [
    "# 4. Add 'myFavorites' and 'oneArrayToRuleThemAll'"
   ]
  },
  {
   "cell_type": "code",
   "execution_count": 10,
   "id": "46a06c97",
   "metadata": {},
   "outputs": [
    {
     "data": {
      "text/plain": [
       "array([14., 28.,  9.,  3.,  5.])"
      ]
     },
     "execution_count": 10,
     "metadata": {},
     "output_type": "execute_result"
    }
   ],
   "source": [
    "myFavorites + oneArrayToRuleThemAll"
   ]
  },
  {
   "cell_type": "markdown",
   "id": "83bb0f2c",
   "metadata": {},
   "source": [
    "# 5. Multiply every element in 'myFavorites' by 2"
   ]
  },
  {
   "cell_type": "code",
   "execution_count": 11,
   "id": "50172b5a",
   "metadata": {},
   "outputs": [
    {
     "data": {
      "text/plain": [
       "array([26, 54, 16,  4,  8])"
      ]
     },
     "execution_count": 11,
     "metadata": {},
     "output_type": "execute_result"
    }
   ],
   "source": [
    "myFavorites * 2"
   ]
  },
  {
   "cell_type": "markdown",
   "id": "717d3cde",
   "metadata": {},
   "source": [
    "# 6. Call the third element in 'myFavorites' using indexing"
   ]
  },
  {
   "cell_type": "code",
   "execution_count": 14,
   "id": "e69501c2",
   "metadata": {},
   "outputs": [
    {
     "data": {
      "text/plain": [
       "array([13, 27,  8,  2,  4])"
      ]
     },
     "execution_count": 14,
     "metadata": {},
     "output_type": "execute_result"
    }
   ],
   "source": [
    "myFavorites"
   ]
  },
  {
   "cell_type": "code",
   "execution_count": 15,
   "id": "0645b110",
   "metadata": {},
   "outputs": [
    {
     "data": {
      "text/plain": [
       "8"
      ]
     },
     "execution_count": 15,
     "metadata": {},
     "output_type": "execute_result"
    }
   ],
   "source": [
    "myFavorites[2]"
   ]
  },
  {
   "cell_type": "markdown",
   "id": "ef367b30",
   "metadata": {},
   "source": [
    "# 7. Create a 4 element, 2x2 matrix of numbers named 'theMatrixHasYou'"
   ]
  },
  {
   "cell_type": "code",
   "execution_count": 16,
   "id": "47d3779f",
   "metadata": {},
   "outputs": [],
   "source": [
    "theMatrixHasYou = np.array([[3,4],[6,7]])"
   ]
  },
  {
   "cell_type": "code",
   "execution_count": 17,
   "id": "0597c0de",
   "metadata": {},
   "outputs": [
    {
     "data": {
      "text/plain": [
       "array([[3, 4],\n",
       "       [6, 7]])"
      ]
     },
     "execution_count": 17,
     "metadata": {},
     "output_type": "execute_result"
    }
   ],
   "source": [
    "theMatrixHasYou"
   ]
  },
  {
   "cell_type": "markdown",
   "id": "5424719f",
   "metadata": {},
   "source": [
    "# 8. Access the upper left element in 'theMatrixHasYou' using indexing"
   ]
  },
  {
   "cell_type": "code",
   "execution_count": 18,
   "id": "28ea8850",
   "metadata": {},
   "outputs": [
    {
     "data": {
      "text/plain": [
       "3"
      ]
     },
     "execution_count": 18,
     "metadata": {},
     "output_type": "execute_result"
    }
   ],
   "source": [
    "theMatrixHasYou[0,0]"
   ]
  },
  {
   "cell_type": "markdown",
   "id": "703316b9",
   "metadata": {},
   "source": [
    "# 9. Find the largest number in each row for 'theMatrixHasYou'"
   ]
  },
  {
   "cell_type": "code",
   "execution_count": 19,
   "id": "c9c423ee",
   "metadata": {},
   "outputs": [
    {
     "data": {
      "text/plain": [
       "array([4, 7])"
      ]
     },
     "execution_count": 19,
     "metadata": {},
     "output_type": "execute_result"
    }
   ],
   "source": [
    "theMatrixHasYou.max(axis=1)"
   ]
  },
  {
   "cell_type": "markdown",
   "id": "3b6942e2",
   "metadata": {},
   "source": [
    "# 10. Reshape 'theMatrixHasYou' into a matrix with 1 row and 4 columns"
   ]
  },
  {
   "cell_type": "code",
   "execution_count": 20,
   "id": "8edf2dd7",
   "metadata": {},
   "outputs": [
    {
     "data": {
      "text/plain": [
       "array([[3, 4, 6, 7]])"
      ]
     },
     "execution_count": 20,
     "metadata": {},
     "output_type": "execute_result"
    }
   ],
   "source": [
    "theMatrixHasYou.reshape(1,4)"
   ]
  },
  {
   "cell_type": "code",
   "execution_count": null,
   "id": "22193540",
   "metadata": {},
   "outputs": [],
   "source": []
  }
 ],
 "metadata": {
  "kernelspec": {
   "display_name": "Python 3 (ipykernel)",
   "language": "python",
   "name": "python3"
  },
  "language_info": {
   "codemirror_mode": {
    "name": "ipython",
    "version": 3
   },
   "file_extension": ".py",
   "mimetype": "text/x-python",
   "name": "python",
   "nbconvert_exporter": "python",
   "pygments_lexer": "ipython3",
   "version": "3.9.9"
  }
 },
 "nbformat": 4,
 "nbformat_minor": 5
}
