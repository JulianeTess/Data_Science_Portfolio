{
 "cells": [
  {
   "cell_type": "markdown",
   "id": "5edc05cf",
   "metadata": {},
   "source": [
    "# Supervised Machine Learning Project"
   ]
  },
  {
   "cell_type": "markdown",
   "id": "220665ae",
   "metadata": {},
   "source": [
    "## Goal:\n",
    "#### Use the following variables to predict the price of diamonds ->\n",
    "- carat\n",
    "- cut\n",
    "- color\n",
    "- clarity\n",
    "\n",
    "### 1. Utilize the 'train_test_split()' method as well as 'LinearRegression()' to train and test your algorithm. Then cross-validate the work you did.\n",
    "### 2. Note the variation in model accuracy once you have cross-validated the model using 5 iterations\n",
    "### 3. Organize the information into a slide presentation that explains the process to analyze the data and the conclusions found"
   ]
  },
  {
   "cell_type": "markdown",
   "id": "2b4495bb",
   "metadata": {},
   "source": [
    "## Import Packages"
   ]
  },
  {
   "cell_type": "code",
   "execution_count": 3,
   "id": "70972de6",
   "metadata": {},
   "outputs": [],
   "source": [
    "import pandas as pd\n",
    "from sklearn.linear_model import LinearRegression\n",
    "from sklearn.model_selection import train_test_split\n",
    "import matplotlib.pyplot as plt\n",
    "%matplotlib inline\n",
    "from sklearn import metrics\n",
    "import numpy as np\n",
    "from sklearn.model_selection import KFold\n",
    "from sklearn.model_selection import cross_val_score"
   ]
  },
  {
   "cell_type": "markdown",
   "id": "bfb4acc3",
   "metadata": {},
   "source": [
    "## Import Data"
   ]
  },
  {
   "cell_type": "code",
   "execution_count": 2,
   "id": "ab943965",
   "metadata": {},
   "outputs": [],
   "source": [
    "import seaborn as sns\n",
    "from sklearn.utils import shuffle\n",
    "Diamonds = shuffle(sns.load_dataset('diamonds'))"
   ]
  },
  {
   "cell_type": "code",
   "execution_count": 4,
   "id": "2f19bbbc",
   "metadata": {},
   "outputs": [
    {
     "data": {
      "text/html": [
       "<div>\n",
       "<style scoped>\n",
       "    .dataframe tbody tr th:only-of-type {\n",
       "        vertical-align: middle;\n",
       "    }\n",
       "\n",
       "    .dataframe tbody tr th {\n",
       "        vertical-align: top;\n",
       "    }\n",
       "\n",
       "    .dataframe thead th {\n",
       "        text-align: right;\n",
       "    }\n",
       "</style>\n",
       "<table border=\"1\" class=\"dataframe\">\n",
       "  <thead>\n",
       "    <tr style=\"text-align: right;\">\n",
       "      <th></th>\n",
       "      <th>carat</th>\n",
       "      <th>cut</th>\n",
       "      <th>color</th>\n",
       "      <th>clarity</th>\n",
       "      <th>depth</th>\n",
       "      <th>table</th>\n",
       "      <th>price</th>\n",
       "      <th>x</th>\n",
       "      <th>y</th>\n",
       "      <th>z</th>\n",
       "    </tr>\n",
       "  </thead>\n",
       "  <tbody>\n",
       "    <tr>\n",
       "      <th>53603</th>\n",
       "      <td>0.70</td>\n",
       "      <td>Ideal</td>\n",
       "      <td>F</td>\n",
       "      <td>SI1</td>\n",
       "      <td>61.3</td>\n",
       "      <td>57.0</td>\n",
       "      <td>2700</td>\n",
       "      <td>5.75</td>\n",
       "      <td>5.71</td>\n",
       "      <td>3.51</td>\n",
       "    </tr>\n",
       "    <tr>\n",
       "      <th>51205</th>\n",
       "      <td>0.73</td>\n",
       "      <td>Ideal</td>\n",
       "      <td>G</td>\n",
       "      <td>SI1</td>\n",
       "      <td>62.1</td>\n",
       "      <td>54.0</td>\n",
       "      <td>2351</td>\n",
       "      <td>5.81</td>\n",
       "      <td>5.76</td>\n",
       "      <td>3.59</td>\n",
       "    </tr>\n",
       "    <tr>\n",
       "      <th>36103</th>\n",
       "      <td>0.37</td>\n",
       "      <td>Ideal</td>\n",
       "      <td>G</td>\n",
       "      <td>IF</td>\n",
       "      <td>60.5</td>\n",
       "      <td>56.0</td>\n",
       "      <td>926</td>\n",
       "      <td>4.66</td>\n",
       "      <td>4.70</td>\n",
       "      <td>2.83</td>\n",
       "    </tr>\n",
       "    <tr>\n",
       "      <th>15034</th>\n",
       "      <td>0.30</td>\n",
       "      <td>Very Good</td>\n",
       "      <td>G</td>\n",
       "      <td>VS1</td>\n",
       "      <td>62.9</td>\n",
       "      <td>57.0</td>\n",
       "      <td>605</td>\n",
       "      <td>4.28</td>\n",
       "      <td>4.31</td>\n",
       "      <td>2.70</td>\n",
       "    </tr>\n",
       "    <tr>\n",
       "      <th>15323</th>\n",
       "      <td>1.01</td>\n",
       "      <td>Very Good</td>\n",
       "      <td>G</td>\n",
       "      <td>VS1</td>\n",
       "      <td>61.9</td>\n",
       "      <td>58.0</td>\n",
       "      <td>6152</td>\n",
       "      <td>6.42</td>\n",
       "      <td>6.50</td>\n",
       "      <td>4.00</td>\n",
       "    </tr>\n",
       "  </tbody>\n",
       "</table>\n",
       "</div>"
      ],
      "text/plain": [
       "       carat        cut color clarity  depth  table  price     x     y     z\n",
       "53603   0.70      Ideal     F     SI1   61.3   57.0   2700  5.75  5.71  3.51\n",
       "51205   0.73      Ideal     G     SI1   62.1   54.0   2351  5.81  5.76  3.59\n",
       "36103   0.37      Ideal     G      IF   60.5   56.0    926  4.66  4.70  2.83\n",
       "15034   0.30  Very Good     G     VS1   62.9   57.0    605  4.28  4.31  2.70\n",
       "15323   1.01  Very Good     G     VS1   61.9   58.0   6152  6.42  6.50  4.00"
      ]
     },
     "execution_count": 4,
     "metadata": {},
     "output_type": "execute_result"
    }
   ],
   "source": [
    "Diamonds.head()"
   ]
  },
  {
   "cell_type": "code",
   "execution_count": 5,
   "id": "88466e21",
   "metadata": {},
   "outputs": [
    {
     "name": "stdout",
     "output_type": "stream",
     "text": [
      "<class 'pandas.core.frame.DataFrame'>\n",
      "Int64Index: 53940 entries, 53603 to 31902\n",
      "Data columns (total 10 columns):\n",
      " #   Column   Non-Null Count  Dtype   \n",
      "---  ------   --------------  -----   \n",
      " 0   carat    53940 non-null  float64 \n",
      " 1   cut      53940 non-null  category\n",
      " 2   color    53940 non-null  category\n",
      " 3   clarity  53940 non-null  category\n",
      " 4   depth    53940 non-null  float64 \n",
      " 5   table    53940 non-null  float64 \n",
      " 6   price    53940 non-null  int64   \n",
      " 7   x        53940 non-null  float64 \n",
      " 8   y        53940 non-null  float64 \n",
      " 9   z        53940 non-null  float64 \n",
      "dtypes: category(3), float64(6), int64(1)\n",
      "memory usage: 3.4 MB\n"
     ]
    }
   ],
   "source": [
    "Diamonds.info()"
   ]
  },
  {
   "cell_type": "code",
   "execution_count": 8,
   "id": "9d9d5881",
   "metadata": {},
   "outputs": [
    {
     "data": {
      "text/plain": [
       "0.2"
      ]
     },
     "execution_count": 8,
     "metadata": {},
     "output_type": "execute_result"
    }
   ],
   "source": [
    "Diamonds['carat'].min()"
   ]
  },
  {
   "cell_type": "code",
   "execution_count": 7,
   "id": "e6bcf611",
   "metadata": {},
   "outputs": [
    {
     "data": {
      "text/plain": [
       "5.01"
      ]
     },
     "execution_count": 7,
     "metadata": {},
     "output_type": "execute_result"
    }
   ],
   "source": [
    "Diamonds['carat'].max()"
   ]
  },
  {
   "cell_type": "code",
   "execution_count": 9,
   "id": "9e560afd",
   "metadata": {},
   "outputs": [
    {
     "data": {
      "text/plain": [
       "['Ideal', 'Very Good', 'Fair', 'Premium', 'Good']\n",
       "Categories (5, object): ['Ideal', 'Premium', 'Very Good', 'Good', 'Fair']"
      ]
     },
     "execution_count": 9,
     "metadata": {},
     "output_type": "execute_result"
    }
   ],
   "source": [
    "Diamonds['cut'].unique()"
   ]
  },
  {
   "cell_type": "code",
   "execution_count": 10,
   "id": "8672b154",
   "metadata": {},
   "outputs": [
    {
     "data": {
      "text/plain": [
       "['F', 'G', 'E', 'H', 'J', 'I', 'D']\n",
       "Categories (7, object): ['D', 'E', 'F', 'G', 'H', 'I', 'J']"
      ]
     },
     "execution_count": 10,
     "metadata": {},
     "output_type": "execute_result"
    }
   ],
   "source": [
    "Diamonds['color'].unique()"
   ]
  },
  {
   "cell_type": "code",
   "execution_count": 11,
   "id": "24005be6",
   "metadata": {},
   "outputs": [
    {
     "data": {
      "text/plain": [
       "['SI1', 'IF', 'VS1', 'VS2', 'VVS2', 'SI2', 'VVS1', 'I1']\n",
       "Categories (8, object): ['IF', 'VVS1', 'VVS2', 'VS1', 'VS2', 'SI1', 'SI2', 'I1']"
      ]
     },
     "execution_count": 11,
     "metadata": {},
     "output_type": "execute_result"
    }
   ],
   "source": [
    "Diamonds['clarity'].unique()"
   ]
  },
  {
   "cell_type": "markdown",
   "id": "82e3b68d",
   "metadata": {},
   "source": [
    "### Organize data:\n",
    "- **Carat Weight:** 0.2-5.01\n",
    "- **Cut:** 'Ideal', 'Premium', 'Very Good', 'Good', 'Fair'\n",
    "- **Color:** (from best to worst) 'D', 'E', 'F', 'G', 'H', 'I', 'J'\n",
    "- **Clarity:** (from best to worst) 'IF', 'VVS1', 'VVS2', 'VS1', 'VS2', 'SI1', 'SI2', 'I1'\n",
    "\n",
    "1. Independent Variables - carat, color, cut, and clarity\n",
    "2. Dependent Variable - price"
   ]
  },
  {
   "cell_type": "markdown",
   "id": "02feb431",
   "metadata": {},
   "source": [
    "## Data Wrangling\n",
    "### Convert string variables to numeric variables\n",
    "Create a dictionary for each of the categorical variables:"
   ]
  },
  {
   "cell_type": "code",
   "execution_count": 12,
   "id": "dab45037",
   "metadata": {},
   "outputs": [],
   "source": [
    "cut_dict = {\"Ideal\":1, \"Premium\":2, \"Very Good\":3, \"Good\":4, \"Fair\":5}\n",
    "color_dict = {\"D\":1, \"E\":2, \"F\":3, \"G\":4, \"H\":5, \"I\":6, \"J\":7}\n",
    "clarity_dict = {\"IF\":1, \"VVS1\":2, \"VVS2\":3, \"VS1\":4, \"VS2\":5, \"SI1\":6, \"SI2\":7, \"I1\":8}"
   ]
  },
  {
   "cell_type": "markdown",
   "id": "382b2ae1",
   "metadata": {},
   "source": [
    "Map in Diamonds dataset:"
   ]
  },
  {
   "cell_type": "code",
   "execution_count": 13,
   "id": "c12a3740",
   "metadata": {},
   "outputs": [],
   "source": [
    "Diamonds['cut'] = Diamonds['cut'].map(cut_dict)\n",
    "Diamonds['color'] = Diamonds['color'].map(color_dict)\n",
    "Diamonds['clarity'] = Diamonds['clarity'].map(clarity_dict)"
   ]
  },
  {
   "cell_type": "code",
   "execution_count": 14,
   "id": "6e917ec0",
   "metadata": {},
   "outputs": [
    {
     "data": {
      "text/html": [
       "<div>\n",
       "<style scoped>\n",
       "    .dataframe tbody tr th:only-of-type {\n",
       "        vertical-align: middle;\n",
       "    }\n",
       "\n",
       "    .dataframe tbody tr th {\n",
       "        vertical-align: top;\n",
       "    }\n",
       "\n",
       "    .dataframe thead th {\n",
       "        text-align: right;\n",
       "    }\n",
       "</style>\n",
       "<table border=\"1\" class=\"dataframe\">\n",
       "  <thead>\n",
       "    <tr style=\"text-align: right;\">\n",
       "      <th></th>\n",
       "      <th>carat</th>\n",
       "      <th>cut</th>\n",
       "      <th>color</th>\n",
       "      <th>clarity</th>\n",
       "      <th>depth</th>\n",
       "      <th>table</th>\n",
       "      <th>price</th>\n",
       "      <th>x</th>\n",
       "      <th>y</th>\n",
       "      <th>z</th>\n",
       "    </tr>\n",
       "  </thead>\n",
       "  <tbody>\n",
       "    <tr>\n",
       "      <th>53603</th>\n",
       "      <td>0.70</td>\n",
       "      <td>1</td>\n",
       "      <td>3</td>\n",
       "      <td>6</td>\n",
       "      <td>61.3</td>\n",
       "      <td>57.0</td>\n",
       "      <td>2700</td>\n",
       "      <td>5.75</td>\n",
       "      <td>5.71</td>\n",
       "      <td>3.51</td>\n",
       "    </tr>\n",
       "    <tr>\n",
       "      <th>51205</th>\n",
       "      <td>0.73</td>\n",
       "      <td>1</td>\n",
       "      <td>4</td>\n",
       "      <td>6</td>\n",
       "      <td>62.1</td>\n",
       "      <td>54.0</td>\n",
       "      <td>2351</td>\n",
       "      <td>5.81</td>\n",
       "      <td>5.76</td>\n",
       "      <td>3.59</td>\n",
       "    </tr>\n",
       "    <tr>\n",
       "      <th>36103</th>\n",
       "      <td>0.37</td>\n",
       "      <td>1</td>\n",
       "      <td>4</td>\n",
       "      <td>1</td>\n",
       "      <td>60.5</td>\n",
       "      <td>56.0</td>\n",
       "      <td>926</td>\n",
       "      <td>4.66</td>\n",
       "      <td>4.70</td>\n",
       "      <td>2.83</td>\n",
       "    </tr>\n",
       "    <tr>\n",
       "      <th>15034</th>\n",
       "      <td>0.30</td>\n",
       "      <td>3</td>\n",
       "      <td>4</td>\n",
       "      <td>4</td>\n",
       "      <td>62.9</td>\n",
       "      <td>57.0</td>\n",
       "      <td>605</td>\n",
       "      <td>4.28</td>\n",
       "      <td>4.31</td>\n",
       "      <td>2.70</td>\n",
       "    </tr>\n",
       "    <tr>\n",
       "      <th>15323</th>\n",
       "      <td>1.01</td>\n",
       "      <td>3</td>\n",
       "      <td>4</td>\n",
       "      <td>4</td>\n",
       "      <td>61.9</td>\n",
       "      <td>58.0</td>\n",
       "      <td>6152</td>\n",
       "      <td>6.42</td>\n",
       "      <td>6.50</td>\n",
       "      <td>4.00</td>\n",
       "    </tr>\n",
       "  </tbody>\n",
       "</table>\n",
       "</div>"
      ],
      "text/plain": [
       "       carat cut color clarity  depth  table  price     x     y     z\n",
       "53603   0.70   1     3       6   61.3   57.0   2700  5.75  5.71  3.51\n",
       "51205   0.73   1     4       6   62.1   54.0   2351  5.81  5.76  3.59\n",
       "36103   0.37   1     4       1   60.5   56.0    926  4.66  4.70  2.83\n",
       "15034   0.30   3     4       4   62.9   57.0    605  4.28  4.31  2.70\n",
       "15323   1.01   3     4       4   61.9   58.0   6152  6.42  6.50  4.00"
      ]
     },
     "execution_count": 14,
     "metadata": {},
     "output_type": "execute_result"
    }
   ],
   "source": [
    "Diamonds.head()"
   ]
  },
  {
   "cell_type": "markdown",
   "id": "ff0f8ebc",
   "metadata": {},
   "source": [
    "Define x and y variables:"
   ]
  },
  {
   "cell_type": "code",
   "execution_count": 15,
   "id": "ff1930ec",
   "metadata": {},
   "outputs": [],
   "source": [
    "x = Diamonds[['carat','cut','color','clarity']]\n",
    "y = Diamonds['price']\n",
    "#Since data is labeled = Supervised Machine learning "
   ]
  },
  {
   "cell_type": "markdown",
   "id": "80d1b8fe",
   "metadata": {},
   "source": [
    "### Train Test Split"
   ]
  },
  {
   "cell_type": "code",
   "execution_count": 17,
   "id": "16244cad",
   "metadata": {},
   "outputs": [
    {
     "name": "stdout",
     "output_type": "stream",
     "text": [
      "(32364, 4) (32364,)\n",
      "(21576, 4) (21576,)\n"
     ]
    }
   ],
   "source": [
    "x_train, x_test, y_train, y_test = train_test_split(x,y, test_size = .4)\n",
    "#spliting it 60/40\n",
    "print(x_train.shape, y_train.shape)\n",
    "print(x_test.shape, y_test.shape)"
   ]
  },
  {
   "cell_type": "markdown",
   "id": "052d6bc5",
   "metadata": {},
   "source": [
    "- **training dataset:** 32,364 rows & 4 columns\n",
    "- **testing dataset:** 21,576 rows & 4 columns"
   ]
  },
  {
   "cell_type": "markdown",
   "id": "5a30fa1f",
   "metadata": {},
   "source": [
    "### Create the Linear Regression Model"
   ]
  },
  {
   "cell_type": "code",
   "execution_count": 18,
   "id": "02611489",
   "metadata": {},
   "outputs": [
    {
     "data": {
      "text/html": [
       "<style>#sk-container-id-1 {color: black;background-color: white;}#sk-container-id-1 pre{padding: 0;}#sk-container-id-1 div.sk-toggleable {background-color: white;}#sk-container-id-1 label.sk-toggleable__label {cursor: pointer;display: block;width: 100%;margin-bottom: 0;padding: 0.3em;box-sizing: border-box;text-align: center;}#sk-container-id-1 label.sk-toggleable__label-arrow:before {content: \"▸\";float: left;margin-right: 0.25em;color: #696969;}#sk-container-id-1 label.sk-toggleable__label-arrow:hover:before {color: black;}#sk-container-id-1 div.sk-estimator:hover label.sk-toggleable__label-arrow:before {color: black;}#sk-container-id-1 div.sk-toggleable__content {max-height: 0;max-width: 0;overflow: hidden;text-align: left;background-color: #f0f8ff;}#sk-container-id-1 div.sk-toggleable__content pre {margin: 0.2em;color: black;border-radius: 0.25em;background-color: #f0f8ff;}#sk-container-id-1 input.sk-toggleable__control:checked~div.sk-toggleable__content {max-height: 200px;max-width: 100%;overflow: auto;}#sk-container-id-1 input.sk-toggleable__control:checked~label.sk-toggleable__label-arrow:before {content: \"▾\";}#sk-container-id-1 div.sk-estimator input.sk-toggleable__control:checked~label.sk-toggleable__label {background-color: #d4ebff;}#sk-container-id-1 div.sk-label input.sk-toggleable__control:checked~label.sk-toggleable__label {background-color: #d4ebff;}#sk-container-id-1 input.sk-hidden--visually {border: 0;clip: rect(1px 1px 1px 1px);clip: rect(1px, 1px, 1px, 1px);height: 1px;margin: -1px;overflow: hidden;padding: 0;position: absolute;width: 1px;}#sk-container-id-1 div.sk-estimator {font-family: monospace;background-color: #f0f8ff;border: 1px dotted black;border-radius: 0.25em;box-sizing: border-box;margin-bottom: 0.5em;}#sk-container-id-1 div.sk-estimator:hover {background-color: #d4ebff;}#sk-container-id-1 div.sk-parallel-item::after {content: \"\";width: 100%;border-bottom: 1px solid gray;flex-grow: 1;}#sk-container-id-1 div.sk-label:hover label.sk-toggleable__label {background-color: #d4ebff;}#sk-container-id-1 div.sk-serial::before {content: \"\";position: absolute;border-left: 1px solid gray;box-sizing: border-box;top: 0;bottom: 0;left: 50%;z-index: 0;}#sk-container-id-1 div.sk-serial {display: flex;flex-direction: column;align-items: center;background-color: white;padding-right: 0.2em;padding-left: 0.2em;position: relative;}#sk-container-id-1 div.sk-item {position: relative;z-index: 1;}#sk-container-id-1 div.sk-parallel {display: flex;align-items: stretch;justify-content: center;background-color: white;position: relative;}#sk-container-id-1 div.sk-item::before, #sk-container-id-1 div.sk-parallel-item::before {content: \"\";position: absolute;border-left: 1px solid gray;box-sizing: border-box;top: 0;bottom: 0;left: 50%;z-index: -1;}#sk-container-id-1 div.sk-parallel-item {display: flex;flex-direction: column;z-index: 1;position: relative;background-color: white;}#sk-container-id-1 div.sk-parallel-item:first-child::after {align-self: flex-end;width: 50%;}#sk-container-id-1 div.sk-parallel-item:last-child::after {align-self: flex-start;width: 50%;}#sk-container-id-1 div.sk-parallel-item:only-child::after {width: 0;}#sk-container-id-1 div.sk-dashed-wrapped {border: 1px dashed gray;margin: 0 0.4em 0.5em 0.4em;box-sizing: border-box;padding-bottom: 0.4em;background-color: white;}#sk-container-id-1 div.sk-label label {font-family: monospace;font-weight: bold;display: inline-block;line-height: 1.2em;}#sk-container-id-1 div.sk-label-container {text-align: center;}#sk-container-id-1 div.sk-container {/* jupyter's `normalize.less` sets `[hidden] { display: none; }` but bootstrap.min.css set `[hidden] { display: none !important; }` so we also need the `!important` here to be able to override the default hidden behavior on the sphinx rendered scikit-learn.org. See: https://github.com/scikit-learn/scikit-learn/issues/21755 */display: inline-block !important;position: relative;}#sk-container-id-1 div.sk-text-repr-fallback {display: none;}</style><div id=\"sk-container-id-1\" class=\"sk-top-container\"><div class=\"sk-text-repr-fallback\"><pre>LinearRegression()</pre><b>In a Jupyter environment, please rerun this cell to show the HTML representation or trust the notebook. <br />On GitHub, the HTML representation is unable to render, please try loading this page with nbviewer.org.</b></div><div class=\"sk-container\" hidden><div class=\"sk-item\"><div class=\"sk-estimator sk-toggleable\"><input class=\"sk-toggleable__control sk-hidden--visually\" id=\"sk-estimator-id-1\" type=\"checkbox\" checked><label for=\"sk-estimator-id-1\" class=\"sk-toggleable__label sk-toggleable__label-arrow\">LinearRegression</label><div class=\"sk-toggleable__content\"><pre>LinearRegression()</pre></div></div></div></div></div>"
      ],
      "text/plain": [
       "LinearRegression()"
      ]
     },
     "execution_count": 18,
     "metadata": {},
     "output_type": "execute_result"
    }
   ],
   "source": [
    "lm = LinearRegression()\n",
    "lm.fit(x_train, y_train)"
   ]
  },
  {
   "cell_type": "markdown",
   "id": "a93744c6",
   "metadata": {},
   "source": [
    "## Interpret Supervised Machine Learning Model Accuracy\n",
    "### Examine Predictions"
   ]
  },
  {
   "cell_type": "code",
   "execution_count": 19,
   "id": "ead9cf2c",
   "metadata": {},
   "outputs": [
    {
     "data": {
      "text/plain": [
       "array([5855.77918017, 4932.86038616, 2887.34967412, ..., 5494.25140837,\n",
       "        490.43919102, 6647.60758187])"
      ]
     },
     "execution_count": 19,
     "metadata": {},
     "output_type": "execute_result"
    }
   ],
   "source": [
    "predictions = lm.predict(x_test)\n",
    "predictions"
   ]
  },
  {
   "cell_type": "markdown",
   "id": "4b4779bb",
   "metadata": {},
   "source": [
    "### Plot information to get a better idea of accuracy"
   ]
  },
  {
   "cell_type": "code",
   "execution_count": 20,
   "id": "b9aec8ad",
   "metadata": {},
   "outputs": [
    {
     "data": {
      "text/plain": [
       "<matplotlib.collections.PathCollection at 0x17dde3340>"
      ]
     },
     "execution_count": 20,
     "metadata": {},
     "output_type": "execute_result"
    },
    {
     "data": {
      "image/png": "[encoded data removed]",
      "text/plain": [
       "<Figure size 432x288 with 1 Axes>"
      ]
     },
     "metadata": {
      "needs_background": "light"
     },
     "output_type": "display_data"
    }
   ],
   "source": [
    "plt.scatter(y_test, predictions)"
   ]
  },
  {
   "cell_type": "markdown",
   "id": "5b97c955",
   "metadata": {},
   "source": [
    "- Accuracy looks good! "
   ]
  },
  {
   "cell_type": "code",
   "execution_count": 21,
   "id": "8816bd07",
   "metadata": {},
   "outputs": [
    {
     "name": "stdout",
     "output_type": "stream",
     "text": [
      "Score: 0.9013837297297377\n"
     ]
    }
   ],
   "source": [
    "print(\"Score:\", lm.score(x_test, y_test))"
   ]
  },
  {
   "cell_type": "markdown",
   "id": "abc380f2",
   "metadata": {},
   "source": [
    "- Model is accurate approx. 90.4% of the time!"
   ]
  },
  {
   "cell_type": "markdown",
   "id": "32552032",
   "metadata": {},
   "source": [
    "## Examine Errors\n",
    "### Mean Absolute Error (MAE)\n",
    "*The mean of the difference btwn the predicted value and the real value.*"
   ]
  },
  {
   "cell_type": "code",
   "execution_count": 22,
   "id": "70cb2983",
   "metadata": {},
   "outputs": [
    {
     "data": {
      "text/plain": [
       "861.6457515714067"
      ]
     },
     "execution_count": 22,
     "metadata": {},
     "output_type": "execute_result"
    }
   ],
   "source": [
    "metrics.mean_absolute_error(y_test, predictions)"
   ]
  },
  {
   "cell_type": "markdown",
   "id": "ecd410e0",
   "metadata": {},
   "source": [
    "- Considering this is between zero to infinity, this number is not that bad."
   ]
  },
  {
   "cell_type": "markdown",
   "id": "7b6424f7",
   "metadata": {},
   "source": [
    "### Mean Squared Error (MSE)\n",
    "*The square of the mean absolute error.*"
   ]
  },
  {
   "cell_type": "code",
   "execution_count": 23,
   "id": "c3048d28",
   "metadata": {},
   "outputs": [
    {
     "data": {
      "text/plain": [
       "1568654.1047808947"
      ]
     },
     "execution_count": 23,
     "metadata": {},
     "output_type": "execute_result"
    }
   ],
   "source": [
    "metrics.mean_squared_error(y_test, predictions)"
   ]
  },
  {
   "cell_type": "markdown",
   "id": "a098b239",
   "metadata": {},
   "source": [
    "- This number looks high to me."
   ]
  },
  {
   "cell_type": "markdown",
   "id": "ae84457c",
   "metadata": {},
   "source": [
    "### Root Mean Squared Error (RMSE)\n",
    "*The square root of mean squared error.*"
   ]
  },
  {
   "cell_type": "code",
   "execution_count": 24,
   "id": "23497291",
   "metadata": {},
   "outputs": [
    {
     "data": {
      "text/plain": [
       "1252.4592228016427"
      ]
     },
     "execution_count": 24,
     "metadata": {},
     "output_type": "execute_result"
    }
   ],
   "source": [
    "np.sqrt(metrics.mean_squared_error(y_test, predictions))"
   ]
  },
  {
   "cell_type": "markdown",
   "id": "034532b8",
   "metadata": {},
   "source": [
    "- This error is acceptable to me, unlike the MSE."
   ]
  },
  {
   "cell_type": "markdown",
   "id": "a8438104",
   "metadata": {},
   "source": [
    "## k-Fold Cross Validation"
   ]
  },
  {
   "cell_type": "code",
   "execution_count": 25,
   "id": "9d18aeea",
   "metadata": {},
   "outputs": [
    {
     "name": "stdout",
     "output_type": "stream",
     "text": [
      "train: [    0     3     6 ... 53936 53937 53938], test: [    1     2     4 ... 53928 53930 53939]\n",
      "train: [    1     2     3 ... 53934 53938 53939], test: [    0     6    14 ... 53935 53936 53937]\n",
      "train: [    0     1     2 ... 53936 53937 53939], test: [    3     7     8 ... 53931 53934 53938]\n"
     ]
    }
   ],
   "source": [
    "kfold = KFold(n_splits = 3, shuffle = True)\n",
    "for train, test in kfold.split(x,y):\n",
    "    print('train: %s, test: %s' % (train,test))"
   ]
  },
  {
   "cell_type": "code",
   "execution_count": 26,
   "id": "7cf03e5f",
   "metadata": {},
   "outputs": [
    {
     "name": "stdout",
     "output_type": "stream",
     "text": [
      "[0.90310862 0.90494734 0.90438359]\n"
     ]
    }
   ],
   "source": [
    "print(cross_val_score(lm, x,y, cv = 3))"
   ]
  },
  {
   "cell_type": "markdown",
   "id": "1b0a22d6",
   "metadata": {},
   "source": [
    "- All trained models are accurate around 90.4% of the time; the model fits very well with the data."
   ]
  },
  {
   "cell_type": "code",
   "execution_count": null,
   "id": "f3e5677d",
   "metadata": {},
   "outputs": [],
   "source": []
  }
 ],
 "metadata": {
  "kernelspec": {
   "display_name": "Python 3 (ipykernel)",
   "language": "python",
   "name": "python3"
  },
  "language_info": {
   "codemirror_mode": {
    "name": "ipython",
    "version": 3
   },
   "file_extension": ".py",
   "mimetype": "text/x-python",
   "name": "python",
   "nbconvert_exporter": "python",
   "pygments_lexer": "ipython3",
   "version": "3.9.9"
  }
 },
 "nbformat": 4,
 "nbformat_minor": 5
}
